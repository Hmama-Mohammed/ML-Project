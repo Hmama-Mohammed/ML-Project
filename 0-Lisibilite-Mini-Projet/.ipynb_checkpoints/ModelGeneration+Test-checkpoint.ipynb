{
 "cells": [
  {
   "cell_type": "code",
   "execution_count": null,
   "metadata": {},
   "outputs": [],
   "source": [
    "from sklearn.svm import SVC\n",
    "from sklearn import svm\n",
    "import pickle\n",
    "from sklearn.metrics import confusion_matrix, recall_score, f1_score, precision_score\n",
    "from sklearn.metrics import plot_confusion_matrix\n",
    "import sklearn as sk\n",
    "from sklearn.model_selection import cross_val_score\n",
    "from sklearn.metrics import accuracy_score, classification_report\n",
    "from sklearn.model_selection import train_test_split\n",
    "import warnings\n",
    "from sklearn.preprocessing import LabelEncoder\n",
    "import pandas as pd\n",
    "import numpy as np\n",
    "import matplotlib.pyplot as plt\n",
    "import csv"
   ]
  },
  {
   "cell_type": "code",
   "execution_count": 2,
   "metadata": {},
   "outputs": [
    {
     "name": "stdout",
     "output_type": "stream",
     "text": [
      "2     95\n",
      "2+    68\n",
      "3     45\n",
      "1     34\n",
      "1+    29\n",
      "dtype: int64\n"
     ]
    }
   ],
   "source": [
    "# Préparation des données\n",
    "\n",
    "df=pd.read_csv('features.csv',sep=',',header =0,names=['SL','WL1','WL2','SC','LC1','LC2','level'])\n",
    "\n",
    "dataset = df.values\n",
    "X=dataset[:,0:6]\n",
    "y=dataset[:,6]\n",
    "\n",
    "#décompte des classes\n",
    "print(pd.value_counts(y))\n"
   ]
  },
  {
   "cell_type": "code",
   "execution_count": 3,
   "metadata": {},
   "outputs": [],
   "source": [
    "#Partition  apprentissage-test. \n",
    "X_train, X_test, Y_train, Y_test = train_test_split( X, y, test_size=0.20, random_state=5,shuffle=True,stratify=y)"
   ]
  },
  {
   "cell_type": "code",
   "execution_count": null,
   "metadata": {},
   "outputs": [
    {
     "name": "stdout",
     "output_type": "stream",
     "text": [
      "****************************** Test 1 **********************************\n",
      "Test Set Accuracy : 45.45454545454545 %\n",
      "\n",
      "\n",
      "Test Set precision : 53.23809523809524 %\n",
      "\n",
      "\n",
      "Test Set f-score : 41.12687312687313 %\n",
      "\n",
      "\n",
      "****************************** Test 2 **********************************\n"
     ]
    }
   ],
   "source": [
    "# C SVM regularization parameter\n",
    "#Create a Gaussian Classifier\n",
    "svc = svm.SVC(C=10.0, kernel='rbf') #'{kernel={linear, sigmoid, poly,rbf}}'\n",
    "classifier=svc.fit(X_train, Y_train)\n",
    "\n",
    "svm_predictions = svc.predict(X_test)\n",
    "\n",
    "print(\"****************************** Test 1 **********************************\")\n",
    "\n",
    "\n",
    "print(f\"Test Set Accuracy : {accuracy_score( Y_test, svm_predictions) * 100} %\\n\\n\")\n",
    "print(f\"Test Set precision : {precision_score( Y_test, svm_predictions,average='macro') * 100} %\\n\\n\")\n",
    "print(f\"Test Set f-score : {f1_score( Y_test, svm_predictions,average='macro') * 100} %\\n\\n\")\n",
    "\n",
    "print(\"****************************** Test 2 **********************************\")\n",
    "#retester avec lineair kernel\n",
    "svc = svm.SVC(C=10.0, kernel='linear') #'{kernel={linear, sigmoid, poly,rbf}}'\n",
    "classifier=svc.fit(X_train, Y_train)\n",
    "\n",
    "svm_predictions = svc.predict(X_test)\n",
    "\n",
    "print(f\"Test Set Accuracy : {accuracy_score( Y_test, svm_predictions) * 100} %\\n\\n\")\n",
    "print(f\"Test Set precision : {precision_score( Y_test, svm_predictions,average='macro') * 100} %\\n\\n\")\n",
    "print(f\"Test Set f-score : {f1_score( Y_test, svm_predictions,average='macro') * 100} %\\n\\n\")"
   ]
  },
  {
   "cell_type": "code",
   "execution_count": null,
   "metadata": {},
   "outputs": [],
   "source": [
    "print(\"****************************** Test 3 **********************************\")\n",
    "#retester avec sigmoid kernel\n",
    "svc = svm.SVC(C=10.0, kernel='sigmoid') #'{kernel={linear, sigmoid, poly,rbf}}'\n",
    "classifier=svc.fit(X_train, Y_train)\n",
    "\n",
    "svm_predictions = svc.predict(X_test)\n",
    "\n",
    "print(f\"Test Set Accuracy : {accuracy_score( Y_test, svm_predictions) * 100} %\\n\\n\")\n",
    "print(f\"Test Set precision : {precision_score( Y_test, svm_predictions,average='macro') * 100} %\\n\\n\")\n",
    "print(f\"Test Set f-score : {f1_score( Y_test, svm_predictions,average='macro') * 100} %\\n\\n\")\n",
    "\n",
    "print(\"****************************** Test 4 **********************************\")\n",
    "#retester avec sigmoid kernel\n",
    "svc = svm.SVC(C=10.0, kernel='poly') #'{kernel={linear, sigmoid, poly,rbf}}'\n",
    "classifier=svc.fit(X_train, Y_train)\n",
    "\n",
    "svm_predictions = svc.predict(X_test)\n",
    "\n",
    "print(f\"Test Set Accuracy : {accuracy_score( Y_test, svm_predictions) * 100} %\\n\\n\")\n",
    "print(f\"Test Set precision : {precision_score( Y_test, svm_predictions,average='macro') * 100} %\\n\\n\")\n",
    "print(f\"Test Set f-score : {f1_score( Y_test, svm_predictions,average='macro') * 100} %\\n\\n\")"
   ]
  },
  {
   "cell_type": "code",
   "execution_count": null,
   "metadata": {},
   "outputs": [],
   "source": []
  },
  {
   "cell_type": "code",
   "execution_count": null,
   "metadata": {},
   "outputs": [],
   "source": []
  }
 ],
 "metadata": {
  "kernelspec": {
   "display_name": "Python 3 (ipykernel)",
   "language": "python",
   "name": "python3"
  },
  "language_info": {
   "codemirror_mode": {
    "name": "ipython",
    "version": 3
   },
   "file_extension": ".py",
   "mimetype": "text/x-python",
   "name": "python",
   "nbconvert_exporter": "python",
   "pygments_lexer": "ipython3",
   "version": "3.9.7"
  }
 },
 "nbformat": 4,
 "nbformat_minor": 4
}
