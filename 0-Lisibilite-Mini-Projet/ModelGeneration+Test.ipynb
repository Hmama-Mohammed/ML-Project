{
 "cells": [
  {
   "cell_type": "code",
   "execution_count": 1,
   "metadata": {},
   "outputs": [],
   "source": [
    "from sklearn.svm import SVC\n",
    "from sklearn import svm\n",
    "from sklearn.metrics import f1_score, precision_score, accuracy_score\n",
    "from sklearn.model_selection import train_test_split\n",
    "import pandas as pd"
   ]
  },
  {
   "cell_type": "code",
   "execution_count": 2,
   "metadata": {},
   "outputs": [
    {
     "name": "stdout",
     "output_type": "stream",
     "text": [
      "2     95\n",
      "2+    68\n",
      "3     45\n",
      "1     34\n",
      "1+    29\n",
      "dtype: int64\n"
     ]
    }
   ],
   "source": [
    "# Préparation des données\n",
    "\n",
    "df=pd.read_csv('features.csv',sep=',',header =0,names=['SL','WL1','WL2','SC','LC1','LC2','level'])\n",
    "\n",
    "dataset = df.values\n",
    "X=dataset[:,0:6]\n",
    "y=dataset[:,6]\n",
    "\n",
    "#décompte des classes\n",
    "print(pd.value_counts(y))\n"
   ]
  },
  {
   "cell_type": "code",
   "execution_count": 3,
   "metadata": {},
   "outputs": [],
   "source": [
    "#Partition  apprentissage-test. \n",
    "X_train, X_test, Y_train, Y_test = train_test_split( X, y, test_size=0.20, random_state=5,shuffle=True,stratify=y)"
   ]
  },
  {
   "cell_type": "code",
   "execution_count": 4,
   "metadata": {},
   "outputs": [
    {
     "name": "stdout",
     "output_type": "stream",
     "text": [
      "****************************** Test 1 **********************************\n",
      "Test Set Accuracy : 45.45454545454545 %\n",
      "\n",
      "\n",
      "Test Set precision : 53.23809523809524 %\n",
      "\n",
      "\n",
      "Test Set f-score : 41.12687312687313 %\n",
      "\n",
      "\n",
      "****************************** Test 2 **********************************\n",
      "['2' '2' '3' '2+' '2' '2' '2' '2' '3' '2+' '1' '1' '2' '2' '2' '2' '2' '2'\n",
      " '2' '2' '2+' '2' '2' '1' '1' '2' '2' '2' '2+' '1+' '1' '2' '1' '2' '1'\n",
      " '2' '2' '1' '1+' '2' '3' '2+' '2+' '2' '2' '3' '2' '2+' '1+' '2' '3' '1'\n",
      " '2' '2' '1']\n",
      "Test Set Accuracy : 60.0 %\n",
      "\n",
      "\n",
      "Test Set precision : 64.28571428571429 %\n",
      "\n",
      "\n",
      "Test Set f-score : 56.51593970921701 %\n",
      "\n",
      "\n"
     ]
    }
   ],
   "source": [
    "# C SVM regularization parameter\n",
    "#Create a Gaussian Classifier\n",
    "svc = svm.SVC(C=10.0, kernel='rbf') #'{kernel={linear, sigmoid, poly,rbf}}'\n",
    "classifier=svc.fit(X_train, Y_train)\n",
    "\n",
    "svm_predictions = svc.predict(X_test)\n",
    "\n",
    "print(\"****************************** Test 1 **********************************\")\n",
    "\n",
    "\n",
    "print(f\"Test Set Accuracy : {accuracy_score( Y_test, svm_predictions) * 100} %\\n\\n\")\n",
    "print(f\"Test Set precision : {precision_score( Y_test, svm_predictions,average='macro') * 100} %\\n\\n\")\n",
    "print(f\"Test Set f-score : {f1_score( Y_test, svm_predictions,average='macro') * 100} %\\n\\n\")\n",
    "\n",
    "print(\"****************************** Test 2 **********************************\")\n",
    "#retester avec lineair kernel\n",
    "svc = svm.SVC(C=10.0, kernel='linear') #'{kernel={linear, sigmoid, poly,rbf}}'\n",
    "classifier=svc.fit(X_train, Y_train)\n",
    "\n",
    "svm_predictions = svc.predict(X_test)\n",
    "\n",
    "print (svm_predictions)\n",
    "print(f\"Test Set Accuracy : {accuracy_score( Y_test, svm_predictions) * 100} %\\n\\n\")\n",
    "print(f\"Test Set precision : {precision_score( Y_test, svm_predictions,average='macro') * 100} %\\n\\n\")\n",
    "print(f\"Test Set f-score : {f1_score( Y_test, svm_predictions,average='macro') * 100} %\\n\\n\")"
   ]
  },
  {
   "cell_type": "code",
   "execution_count": 5,
   "metadata": {},
   "outputs": [
    {
     "name": "stdout",
     "output_type": "stream",
     "text": [
      "****************************** Test 3 **********************************\n",
      "Test Set Accuracy : 23.636363636363637 %\n",
      "\n",
      "\n",
      "Test Set precision : 13.153153153153152 %\n",
      "\n",
      "\n",
      "Test Set f-score : 10.924369747899158 %\n",
      "\n",
      "\n",
      "****************************** Test 4 **********************************\n",
      "Test Set Accuracy : 43.63636363636363 %\n",
      "\n",
      "\n",
      "Test Set precision : 59.16666666666666 %\n",
      "\n",
      "\n",
      "Test Set f-score : 36.45896971499113 %\n",
      "\n",
      "\n"
     ]
    },
    {
     "name": "stderr",
     "output_type": "stream",
     "text": [
      "C:\\Users\\DELL\\anaconda3\\lib\\site-packages\\sklearn\\metrics\\_classification.py:1248: UndefinedMetricWarning: Precision is ill-defined and being set to 0.0 in labels with no predicted samples. Use `zero_division` parameter to control this behavior.\n",
      "  _warn_prf(average, modifier, msg_start, len(result))\n"
     ]
    }
   ],
   "source": [
    "print(\"****************************** Test 3 **********************************\")\n",
    "#retester avec sigmoid kernel\n",
    "svc = svm.SVC(C=10.0, kernel='sigmoid') #'{kernel={linear, sigmoid, poly,rbf}}'\n",
    "classifier=svc.fit(X_train, Y_train)\n",
    "\n",
    "svm_predictions = svc.predict(X_test)\n",
    "\n",
    "print(f\"Test Set Accuracy : {accuracy_score( Y_test, svm_predictions) * 100} %\\n\\n\")\n",
    "print(f\"Test Set precision : {precision_score( Y_test, svm_predictions,average='macro') * 100} %\\n\\n\")\n",
    "print(f\"Test Set f-score : {f1_score( Y_test, svm_predictions,average='macro') * 100} %\\n\\n\")\n",
    "\n",
    "print(\"****************************** Test 4 **********************************\")\n",
    "#retester avec sigmoid kernel\n",
    "svc = svm.SVC(C=10.0, kernel='poly') #'{kernel={linear, sigmoid, poly,rbf}}'\n",
    "classifier=svc.fit(X_train, Y_train)\n",
    "\n",
    "svm_predictions = svc.predict(X_test)\n",
    "\n",
    "print(f\"Test Set Accuracy : {accuracy_score( Y_test, svm_predictions) * 100} %\\n\\n\")\n",
    "print(f\"Test Set precision : {precision_score( Y_test, svm_predictions,average='macro') * 100} %\\n\\n\")\n",
    "print(f\"Test Set f-score : {f1_score( Y_test, svm_predictions,average='macro') * 100} %\\n\\n\")"
   ]
  },
  {
   "cell_type": "code",
   "execution_count": null,
   "metadata": {},
   "outputs": [],
   "source": []
  }
 ],
 "metadata": {
  "kernelspec": {
   "display_name": "Python 3 (ipykernel)",
   "language": "python",
   "name": "python3"
  },
  "language_info": {
   "codemirror_mode": {
    "name": "ipython",
    "version": 3
   },
   "file_extension": ".py",
   "mimetype": "text/x-python",
   "name": "python",
   "nbconvert_exporter": "python",
   "pygments_lexer": "ipython3",
   "version": "3.9.7"
  }
 },
 "nbformat": 4,
 "nbformat_minor": 4
}
